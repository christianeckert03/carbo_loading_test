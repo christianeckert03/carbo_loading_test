{
 "cells": [
  {
   "cell_type": "markdown",
   "id": "89d63604",
   "metadata": {},
   "source": [
    "## Carbo Loading Live Coding Test"
   ]
  },
  {
   "cell_type": "code",
   "execution_count": 112,
   "id": "9b35aa5a",
   "metadata": {},
   "outputs": [],
   "source": [
    "import pandas as pd\n",
    "import numpy as np"
   ]
  },
  {
   "cell_type": "code",
   "execution_count": 2,
   "id": "97086aa1",
   "metadata": {},
   "outputs": [],
   "source": [
    "transactions = pd.read_csv('dh_transactions.csv')"
   ]
  },
  {
   "cell_type": "code",
   "execution_count": 3,
   "id": "4c830c90",
   "metadata": {},
   "outputs": [],
   "source": [
    "store = pd.read_csv('dh_store_lookup.csv')"
   ]
  },
  {
   "cell_type": "code",
   "execution_count": 4,
   "id": "847ecec6",
   "metadata": {},
   "outputs": [],
   "source": [
    "product = pd.read_csv('dh_product_lookup.csv')"
   ]
  },
  {
   "cell_type": "code",
   "execution_count": 6,
   "id": "00dc18ed",
   "metadata": {},
   "outputs": [],
   "source": [
    "causal = pd.read_csv('dh_causal_lookup.csv')"
   ]
  },
  {
   "cell_type": "code",
   "execution_count": 7,
   "id": "1d2955de",
   "metadata": {},
   "outputs": [
    {
     "data": {
      "text/html": [
       "<div>\n",
       "<style scoped>\n",
       "    .dataframe tbody tr th:only-of-type {\n",
       "        vertical-align: middle;\n",
       "    }\n",
       "\n",
       "    .dataframe tbody tr th {\n",
       "        vertical-align: top;\n",
       "    }\n",
       "\n",
       "    .dataframe thead th {\n",
       "        text-align: right;\n",
       "    }\n",
       "</style>\n",
       "<table border=\"1\" class=\"dataframe\">\n",
       "  <thead>\n",
       "    <tr style=\"text-align: right;\">\n",
       "      <th></th>\n",
       "      <th>upc</th>\n",
       "      <th>dollar_sales</th>\n",
       "      <th>units</th>\n",
       "      <th>time_of_transaction</th>\n",
       "      <th>geography</th>\n",
       "      <th>week</th>\n",
       "      <th>household</th>\n",
       "      <th>store</th>\n",
       "      <th>basket</th>\n",
       "      <th>day</th>\n",
       "      <th>coupon</th>\n",
       "    </tr>\n",
       "  </thead>\n",
       "  <tbody>\n",
       "    <tr>\n",
       "      <th>0</th>\n",
       "      <td>7680850106</td>\n",
       "      <td>0.80</td>\n",
       "      <td>1</td>\n",
       "      <td>1100</td>\n",
       "      <td>2</td>\n",
       "      <td>1</td>\n",
       "      <td>125434</td>\n",
       "      <td>244</td>\n",
       "      <td>1</td>\n",
       "      <td>1</td>\n",
       "      <td>0</td>\n",
       "    </tr>\n",
       "    <tr>\n",
       "      <th>1</th>\n",
       "      <td>3620000470</td>\n",
       "      <td>3.59</td>\n",
       "      <td>1</td>\n",
       "      <td>1100</td>\n",
       "      <td>2</td>\n",
       "      <td>1</td>\n",
       "      <td>125434</td>\n",
       "      <td>244</td>\n",
       "      <td>1</td>\n",
       "      <td>1</td>\n",
       "      <td>0</td>\n",
       "    </tr>\n",
       "    <tr>\n",
       "      <th>2</th>\n",
       "      <td>1800028064</td>\n",
       "      <td>2.25</td>\n",
       "      <td>1</td>\n",
       "      <td>1137</td>\n",
       "      <td>2</td>\n",
       "      <td>1</td>\n",
       "      <td>108320</td>\n",
       "      <td>244</td>\n",
       "      <td>2</td>\n",
       "      <td>1</td>\n",
       "      <td>0</td>\n",
       "    </tr>\n",
       "    <tr>\n",
       "      <th>3</th>\n",
       "      <td>9999985067</td>\n",
       "      <td>0.85</td>\n",
       "      <td>1</td>\n",
       "      <td>1148</td>\n",
       "      <td>2</td>\n",
       "      <td>1</td>\n",
       "      <td>162016</td>\n",
       "      <td>244</td>\n",
       "      <td>3</td>\n",
       "      <td>1</td>\n",
       "      <td>0</td>\n",
       "    </tr>\n",
       "    <tr>\n",
       "      <th>4</th>\n",
       "      <td>9999985131</td>\n",
       "      <td>2.19</td>\n",
       "      <td>1</td>\n",
       "      <td>1323</td>\n",
       "      <td>2</td>\n",
       "      <td>1</td>\n",
       "      <td>89437</td>\n",
       "      <td>244</td>\n",
       "      <td>4</td>\n",
       "      <td>1</td>\n",
       "      <td>0</td>\n",
       "    </tr>\n",
       "  </tbody>\n",
       "</table>\n",
       "</div>"
      ],
      "text/plain": [
       "          upc  dollar_sales  units  time_of_transaction  geography  week  \\\n",
       "0  7680850106          0.80      1                 1100          2     1   \n",
       "1  3620000470          3.59      1                 1100          2     1   \n",
       "2  1800028064          2.25      1                 1137          2     1   \n",
       "3  9999985067          0.85      1                 1148          2     1   \n",
       "4  9999985131          2.19      1                 1323          2     1   \n",
       "\n",
       "   household  store  basket  day  coupon  \n",
       "0     125434    244       1    1       0  \n",
       "1     125434    244       1    1       0  \n",
       "2     108320    244       2    1       0  \n",
       "3     162016    244       3    1       0  \n",
       "4      89437    244       4    1       0  "
      ]
     },
     "execution_count": 7,
     "metadata": {},
     "output_type": "execute_result"
    }
   ],
   "source": [
    "transactions.head()"
   ]
  },
  {
   "cell_type": "code",
   "execution_count": 8,
   "id": "2576d7f8",
   "metadata": {},
   "outputs": [
    {
     "data": {
      "text/html": [
       "<div>\n",
       "<style scoped>\n",
       "    .dataframe tbody tr th:only-of-type {\n",
       "        vertical-align: middle;\n",
       "    }\n",
       "\n",
       "    .dataframe tbody tr th {\n",
       "        vertical-align: top;\n",
       "    }\n",
       "\n",
       "    .dataframe thead th {\n",
       "        text-align: right;\n",
       "    }\n",
       "</style>\n",
       "<table border=\"1\" class=\"dataframe\">\n",
       "  <thead>\n",
       "    <tr style=\"text-align: right;\">\n",
       "      <th></th>\n",
       "      <th>store</th>\n",
       "      <th>store_zip_code</th>\n",
       "    </tr>\n",
       "  </thead>\n",
       "  <tbody>\n",
       "    <tr>\n",
       "      <th>0</th>\n",
       "      <td>1</td>\n",
       "      <td>37865</td>\n",
       "    </tr>\n",
       "    <tr>\n",
       "      <th>1</th>\n",
       "      <td>2</td>\n",
       "      <td>30084</td>\n",
       "    </tr>\n",
       "    <tr>\n",
       "      <th>2</th>\n",
       "      <td>3</td>\n",
       "      <td>30039</td>\n",
       "    </tr>\n",
       "    <tr>\n",
       "      <th>3</th>\n",
       "      <td>4</td>\n",
       "      <td>31210</td>\n",
       "    </tr>\n",
       "    <tr>\n",
       "      <th>4</th>\n",
       "      <td>5</td>\n",
       "      <td>30044</td>\n",
       "    </tr>\n",
       "  </tbody>\n",
       "</table>\n",
       "</div>"
      ],
      "text/plain": [
       "   store  store_zip_code\n",
       "0      1           37865\n",
       "1      2           30084\n",
       "2      3           30039\n",
       "3      4           31210\n",
       "4      5           30044"
      ]
     },
     "execution_count": 8,
     "metadata": {},
     "output_type": "execute_result"
    }
   ],
   "source": [
    "store.head()"
   ]
  },
  {
   "cell_type": "code",
   "execution_count": 9,
   "id": "2c2b3050",
   "metadata": {},
   "outputs": [
    {
     "data": {
      "text/html": [
       "<div>\n",
       "<style scoped>\n",
       "    .dataframe tbody tr th:only-of-type {\n",
       "        vertical-align: middle;\n",
       "    }\n",
       "\n",
       "    .dataframe tbody tr th {\n",
       "        vertical-align: top;\n",
       "    }\n",
       "\n",
       "    .dataframe thead th {\n",
       "        text-align: right;\n",
       "    }\n",
       "</style>\n",
       "<table border=\"1\" class=\"dataframe\">\n",
       "  <thead>\n",
       "    <tr style=\"text-align: right;\">\n",
       "      <th></th>\n",
       "      <th>upc</th>\n",
       "      <th>product_description</th>\n",
       "      <th>commodity</th>\n",
       "      <th>brand</th>\n",
       "      <th>product_size</th>\n",
       "    </tr>\n",
       "  </thead>\n",
       "  <tbody>\n",
       "    <tr>\n",
       "      <th>0</th>\n",
       "      <td>111112360</td>\n",
       "      <td>VINCENT S ORIG MARINARA S</td>\n",
       "      <td>pasta sauce</td>\n",
       "      <td>Vincent's</td>\n",
       "      <td>25 OZ</td>\n",
       "    </tr>\n",
       "    <tr>\n",
       "      <th>1</th>\n",
       "      <td>566300023</td>\n",
       "      <td>PINE MOUNTAIN SYRUP</td>\n",
       "      <td>syrups</td>\n",
       "      <td>Pine Mountain</td>\n",
       "      <td>40 OZ</td>\n",
       "    </tr>\n",
       "    <tr>\n",
       "      <th>2</th>\n",
       "      <td>566300028</td>\n",
       "      <td>MILLER CANE SYRUP</td>\n",
       "      <td>syrups</td>\n",
       "      <td>Miller</td>\n",
       "      <td>19 OZ</td>\n",
       "    </tr>\n",
       "    <tr>\n",
       "      <th>3</th>\n",
       "      <td>566300029</td>\n",
       "      <td>MILLER CANE SYRUP</td>\n",
       "      <td>syrups</td>\n",
       "      <td>Miller</td>\n",
       "      <td>12 OZ</td>\n",
       "    </tr>\n",
       "    <tr>\n",
       "      <th>4</th>\n",
       "      <td>566300035</td>\n",
       "      <td>PINE MOUNTAIN SYRUP</td>\n",
       "      <td>syrups</td>\n",
       "      <td>Pine Mountain</td>\n",
       "      <td>19 OZ</td>\n",
       "    </tr>\n",
       "  </tbody>\n",
       "</table>\n",
       "</div>"
      ],
      "text/plain": [
       "         upc        product_description    commodity          brand  \\\n",
       "0  111112360  VINCENT S ORIG MARINARA S  pasta sauce      Vincent's   \n",
       "1  566300023        PINE MOUNTAIN SYRUP       syrups  Pine Mountain   \n",
       "2  566300028          MILLER CANE SYRUP       syrups         Miller   \n",
       "3  566300029          MILLER CANE SYRUP       syrups         Miller   \n",
       "4  566300035        PINE MOUNTAIN SYRUP       syrups  Pine Mountain   \n",
       "\n",
       "  product_size  \n",
       "0        25 OZ  \n",
       "1        40 OZ  \n",
       "2        19 OZ  \n",
       "3        12 OZ  \n",
       "4        19 OZ  "
      ]
     },
     "execution_count": 9,
     "metadata": {},
     "output_type": "execute_result"
    }
   ],
   "source": [
    "product.head()"
   ]
  },
  {
   "cell_type": "code",
   "execution_count": 10,
   "id": "3961e4ed",
   "metadata": {},
   "outputs": [
    {
     "data": {
      "text/html": [
       "<div>\n",
       "<style scoped>\n",
       "    .dataframe tbody tr th:only-of-type {\n",
       "        vertical-align: middle;\n",
       "    }\n",
       "\n",
       "    .dataframe tbody tr th {\n",
       "        vertical-align: top;\n",
       "    }\n",
       "\n",
       "    .dataframe thead th {\n",
       "        text-align: right;\n",
       "    }\n",
       "</style>\n",
       "<table border=\"1\" class=\"dataframe\">\n",
       "  <thead>\n",
       "    <tr style=\"text-align: right;\">\n",
       "      <th></th>\n",
       "      <th>upc</th>\n",
       "      <th>store</th>\n",
       "      <th>week</th>\n",
       "      <th>feature_desc</th>\n",
       "      <th>display_desc</th>\n",
       "      <th>geography</th>\n",
       "    </tr>\n",
       "  </thead>\n",
       "  <tbody>\n",
       "    <tr>\n",
       "      <th>0</th>\n",
       "      <td>7680850108</td>\n",
       "      <td>1</td>\n",
       "      <td>68</td>\n",
       "      <td>Wrap Interior Feature</td>\n",
       "      <td>Not on Display</td>\n",
       "      <td>1</td>\n",
       "    </tr>\n",
       "    <tr>\n",
       "      <th>1</th>\n",
       "      <td>5100001212</td>\n",
       "      <td>1</td>\n",
       "      <td>66</td>\n",
       "      <td>Wrap Back Feature</td>\n",
       "      <td>Not on Display</td>\n",
       "      <td>1</td>\n",
       "    </tr>\n",
       "    <tr>\n",
       "      <th>2</th>\n",
       "      <td>5100002792</td>\n",
       "      <td>1</td>\n",
       "      <td>72</td>\n",
       "      <td>Interior Page Feature</td>\n",
       "      <td>Not on Display</td>\n",
       "      <td>1</td>\n",
       "    </tr>\n",
       "    <tr>\n",
       "      <th>3</th>\n",
       "      <td>3620000300</td>\n",
       "      <td>1</td>\n",
       "      <td>55</td>\n",
       "      <td>Wrap Interior Feature</td>\n",
       "      <td>Not on Display</td>\n",
       "      <td>1</td>\n",
       "    </tr>\n",
       "    <tr>\n",
       "      <th>4</th>\n",
       "      <td>4112907742</td>\n",
       "      <td>1</td>\n",
       "      <td>68</td>\n",
       "      <td>Wrap Interior Feature</td>\n",
       "      <td>Not on Display</td>\n",
       "      <td>1</td>\n",
       "    </tr>\n",
       "  </tbody>\n",
       "</table>\n",
       "</div>"
      ],
      "text/plain": [
       "          upc  store  week           feature_desc    display_desc  geography\n",
       "0  7680850108      1    68  Wrap Interior Feature  Not on Display          1\n",
       "1  5100001212      1    66      Wrap Back Feature  Not on Display          1\n",
       "2  5100002792      1    72  Interior Page Feature  Not on Display          1\n",
       "3  3620000300      1    55  Wrap Interior Feature  Not on Display          1\n",
       "4  4112907742      1    68  Wrap Interior Feature  Not on Display          1"
      ]
     },
     "execution_count": 10,
     "metadata": {},
     "output_type": "execute_result"
    }
   ],
   "source": [
    "causal.head()"
   ]
  },
  {
   "cell_type": "markdown",
   "id": "44085d4a",
   "metadata": {},
   "source": [
    "## Questions"
   ]
  },
  {
   "cell_type": "markdown",
   "id": "1105613e",
   "metadata": {},
   "source": [
    "#### Q1. What are the top five products in each commodity?"
   ]
  },
  {
   "cell_type": "code",
   "execution_count": 12,
   "id": "0fce3a1a",
   "metadata": {},
   "outputs": [
    {
     "data": {
      "text/plain": [
       "0    9999985020\n",
       "dtype: int64"
      ]
     },
     "execution_count": 12,
     "metadata": {},
     "output_type": "execute_result"
    }
   ],
   "source": [
    "# Start by checking what the most common UPCs are in the transactions set. Mode gives us the first.\n",
    "transactions.upc.mode()"
   ]
  },
  {
   "cell_type": "code",
   "execution_count": 79,
   "id": "3a94d86f",
   "metadata": {},
   "outputs": [
    {
     "data": {
      "text/html": [
       "<div>\n",
       "<style scoped>\n",
       "    .dataframe tbody tr th:only-of-type {\n",
       "        vertical-align: middle;\n",
       "    }\n",
       "\n",
       "    .dataframe tbody tr th {\n",
       "        vertical-align: top;\n",
       "    }\n",
       "\n",
       "    .dataframe thead th {\n",
       "        text-align: right;\n",
       "    }\n",
       "</style>\n",
       "<table border=\"1\" class=\"dataframe\">\n",
       "  <thead>\n",
       "    <tr style=\"text-align: right;\">\n",
       "      <th></th>\n",
       "      <th>sales</th>\n",
       "    </tr>\n",
       "  </thead>\n",
       "  <tbody>\n",
       "    <tr>\n",
       "      <th>9999985020</th>\n",
       "      <td>110132</td>\n",
       "    </tr>\n",
       "    <tr>\n",
       "      <th>9999985004</th>\n",
       "      <td>103971</td>\n",
       "    </tr>\n",
       "    <tr>\n",
       "      <th>9999985068</th>\n",
       "      <td>79920</td>\n",
       "    </tr>\n",
       "    <tr>\n",
       "      <th>3620000250</th>\n",
       "      <td>79305</td>\n",
       "    </tr>\n",
       "    <tr>\n",
       "      <th>9999985021</th>\n",
       "      <td>62020</td>\n",
       "    </tr>\n",
       "    <tr>\n",
       "      <th>9999967727</th>\n",
       "      <td>59460</td>\n",
       "    </tr>\n",
       "    <tr>\n",
       "      <th>5100002549</th>\n",
       "      <td>53951</td>\n",
       "    </tr>\n",
       "    <tr>\n",
       "      <th>3620000300</th>\n",
       "      <td>48643</td>\n",
       "    </tr>\n",
       "    <tr>\n",
       "      <th>9999985051</th>\n",
       "      <td>46344</td>\n",
       "    </tr>\n",
       "    <tr>\n",
       "      <th>9999985005</th>\n",
       "      <td>45572</td>\n",
       "    </tr>\n",
       "    <tr>\n",
       "      <th>2700042238</th>\n",
       "      <td>45132</td>\n",
       "    </tr>\n",
       "    <tr>\n",
       "      <th>3000005300</th>\n",
       "      <td>43462</td>\n",
       "    </tr>\n",
       "    <tr>\n",
       "      <th>9999985001</th>\n",
       "      <td>43265</td>\n",
       "    </tr>\n",
       "    <tr>\n",
       "      <th>9999985027</th>\n",
       "      <td>41358</td>\n",
       "    </tr>\n",
       "    <tr>\n",
       "      <th>9999966070</th>\n",
       "      <td>39254</td>\n",
       "    </tr>\n",
       "    <tr>\n",
       "      <th>9999985052</th>\n",
       "      <td>38554</td>\n",
       "    </tr>\n",
       "    <tr>\n",
       "      <th>3620000444</th>\n",
       "      <td>38199</td>\n",
       "    </tr>\n",
       "    <tr>\n",
       "      <th>9999985029</th>\n",
       "      <td>36898</td>\n",
       "    </tr>\n",
       "    <tr>\n",
       "      <th>3620001369</th>\n",
       "      <td>36708</td>\n",
       "    </tr>\n",
       "    <tr>\n",
       "      <th>3620000468</th>\n",
       "      <td>34669</td>\n",
       "    </tr>\n",
       "  </tbody>\n",
       "</table>\n",
       "</div>"
      ],
      "text/plain": [
       "             sales\n",
       "9999985020  110132\n",
       "9999985004  103971\n",
       "9999985068   79920\n",
       "3620000250   79305\n",
       "9999985021   62020\n",
       "9999967727   59460\n",
       "5100002549   53951\n",
       "3620000300   48643\n",
       "9999985051   46344\n",
       "9999985005   45572\n",
       "2700042238   45132\n",
       "3000005300   43462\n",
       "9999985001   43265\n",
       "9999985027   41358\n",
       "9999966070   39254\n",
       "9999985052   38554\n",
       "3620000444   38199\n",
       "9999985029   36898\n",
       "3620001369   36708\n",
       "3620000468   34669"
      ]
     },
     "execution_count": 79,
     "metadata": {},
     "output_type": "execute_result"
    }
   ],
   "source": [
    "# And then value counts gives us the nth most.\n",
    "upcsales = transactions.upc.value_counts()[:20]\n",
    "\n",
    "# We can make a new DataFrame of these twenty values.\n",
    "upcsales = pd.DataFrame(upcsales)\n",
    "upcsales = upcsales.rename(columns = {'upc':'sales'})\n",
    "upcsales"
   ]
  },
  {
   "cell_type": "code",
   "execution_count": 63,
   "id": "83c7d6e1",
   "metadata": {},
   "outputs": [
    {
     "name": "stdout",
     "output_type": "stream",
     "text": [
      "product_description    PRIVATE LABEL THIN SPAGHETTI\n",
      "commodity                                     pasta\n",
      "brand                                 Private Label\n",
      "product_size                                  16 OZ\n",
      "Name: 9999985020, dtype: object\n",
      "product_description    PRIVATE LABEL SPAGHETTI REGULAR\n",
      "commodity                                        pasta\n",
      "brand                                    Private Label\n",
      "product_size                                     16 OZ\n",
      "Name: 9999985004, dtype: object\n",
      "product_description    PRIVATE LABEL ANGEL HAIR PASTA\n",
      "commodity                                       pasta\n",
      "brand                                   Private Label\n",
      "product_size                                    16 OZ\n",
      "Name: 9999985068, dtype: object\n",
      "product_description    RAGU TRADITIONAL PLAIN\n",
      "commodity                         pasta sauce\n",
      "brand                                    Ragu\n",
      "product_size                            26 OZ\n",
      "Name: 3620000250, dtype: object\n",
      "product_description    PRIVATE LABEL ELBO MACARONI\n",
      "commodity                                    pasta\n",
      "brand                                Private Label\n",
      "product_size                                 16 OZ\n",
      "Name: 9999985021, dtype: object\n",
      "product_description    PRIVATE LABEL SYRUP PLASTIC BOTTLE\n",
      "commodity                                          syrups\n",
      "brand                                       Private Label\n",
      "product_size                                        24 OZ\n",
      "Name: 9999967727, dtype: object\n",
      "product_description    PREGO REG SPAGHETTI SAUCE\n",
      "commodity                            pasta sauce\n",
      "brand                                      Prego\n",
      "product_size                               26 OZ\n",
      "Name: 5100002549, dtype: object\n",
      "product_description    RAGU OWS SPAG SAUCE MEAT\n",
      "commodity                           pasta sauce\n",
      "brand                                      Ragu\n",
      "product_size                              26 OZ\n",
      "Name: 3620000300, dtype: object\n",
      "product_description    PRIVATE LABEL SPAGHETTI THIN\n",
      "commodity                                     pasta\n",
      "brand                                 Private Label\n",
      "product_size                                   32OZ\n",
      "Name: 9999985051, dtype: object\n",
      "product_description    PRIVATE LABEL SPAGHETTI REGULAR\n",
      "commodity                                        pasta\n",
      "brand                                    Private Label\n",
      "product_size                                      32OZ\n",
      "Name: 9999985005, dtype: object\n"
     ]
    }
   ],
   "source": [
    "# Let's make this a list, and then iterate over the product database. Set index lets us use loc.\n",
    "# This just gives us the top ten most sold products though.\n",
    "upclist = transactions.upc.value_counts()[:10].index.tolist()\n",
    "\n",
    "for i in upclist:\n",
    "    print(product.set_index('upc').loc[i])"
   ]
  },
  {
   "cell_type": "code",
   "execution_count": 111,
   "id": "b3596ab9",
   "metadata": {
    "scrolled": true
   },
   "outputs": [
    {
     "ename": "KeyError",
     "evalue": "'9999985020'",
     "output_type": "error",
     "traceback": [
      "\u001b[0;31m---------------------------------------------------------------------------\u001b[0m",
      "\u001b[0;31mKeyError\u001b[0m                                  Traceback (most recent call last)",
      "\u001b[0;32m/opt/anaconda3/lib/python3.8/site-packages/pandas/core/indexes/base.py\u001b[0m in \u001b[0;36mget_loc\u001b[0;34m(self, key, method, tolerance)\u001b[0m\n\u001b[1;32m   3079\u001b[0m             \u001b[0;32mtry\u001b[0m\u001b[0;34m:\u001b[0m\u001b[0;34m\u001b[0m\u001b[0;34m\u001b[0m\u001b[0m\n\u001b[0;32m-> 3080\u001b[0;31m                 \u001b[0;32mreturn\u001b[0m \u001b[0mself\u001b[0m\u001b[0;34m.\u001b[0m\u001b[0m_engine\u001b[0m\u001b[0;34m.\u001b[0m\u001b[0mget_loc\u001b[0m\u001b[0;34m(\u001b[0m\u001b[0mcasted_key\u001b[0m\u001b[0;34m)\u001b[0m\u001b[0;34m\u001b[0m\u001b[0;34m\u001b[0m\u001b[0m\n\u001b[0m\u001b[1;32m   3081\u001b[0m             \u001b[0;32mexcept\u001b[0m \u001b[0mKeyError\u001b[0m \u001b[0;32mas\u001b[0m \u001b[0merr\u001b[0m\u001b[0;34m:\u001b[0m\u001b[0;34m\u001b[0m\u001b[0;34m\u001b[0m\u001b[0m\n",
      "\u001b[0;32mpandas/_libs/index.pyx\u001b[0m in \u001b[0;36mpandas._libs.index.IndexEngine.get_loc\u001b[0;34m()\u001b[0m\n",
      "\u001b[0;32mpandas/_libs/index.pyx\u001b[0m in \u001b[0;36mpandas._libs.index.IndexEngine.get_loc\u001b[0;34m()\u001b[0m\n",
      "\u001b[0;32mpandas/_libs/index_class_helper.pxi\u001b[0m in \u001b[0;36mpandas._libs.index.Int64Engine._check_type\u001b[0;34m()\u001b[0m\n",
      "\u001b[0;31mKeyError\u001b[0m: '9999985020'",
      "\nThe above exception was the direct cause of the following exception:\n",
      "\u001b[0;31mKeyError\u001b[0m                                  Traceback (most recent call last)",
      "\u001b[0;32m<ipython-input-111-785a25205019>\u001b[0m in \u001b[0;36m<module>\u001b[0;34m\u001b[0m\n\u001b[1;32m      7\u001b[0m \u001b[0mi\u001b[0m \u001b[0;34m=\u001b[0m \u001b[0;36m0\u001b[0m\u001b[0;34m\u001b[0m\u001b[0;34m\u001b[0m\u001b[0m\n\u001b[1;32m      8\u001b[0m \u001b[0;34m\u001b[0m\u001b[0m\n\u001b[0;32m----> 9\u001b[0;31m \u001b[0mupcsales\u001b[0m\u001b[0;34m.\u001b[0m\u001b[0mloc\u001b[0m\u001b[0;34m[\u001b[0m\u001b[0;34m'9999985020'\u001b[0m\u001b[0;34m]\u001b[0m\u001b[0;34m\u001b[0m\u001b[0;34m\u001b[0m\u001b[0m\n\u001b[0m\u001b[1;32m     10\u001b[0m \u001b[0;34m\u001b[0m\u001b[0m\n\u001b[1;32m     11\u001b[0m \u001b[0;31m#for group_key, group_value in product2.groupby('upc'):\u001b[0m\u001b[0;34m\u001b[0m\u001b[0;34m\u001b[0m\u001b[0;34m\u001b[0m\u001b[0m\n",
      "\u001b[0;32m/opt/anaconda3/lib/python3.8/site-packages/pandas/core/indexing.py\u001b[0m in \u001b[0;36m__getitem__\u001b[0;34m(self, key)\u001b[0m\n\u001b[1;32m    893\u001b[0m \u001b[0;34m\u001b[0m\u001b[0m\n\u001b[1;32m    894\u001b[0m             \u001b[0mmaybe_callable\u001b[0m \u001b[0;34m=\u001b[0m \u001b[0mcom\u001b[0m\u001b[0;34m.\u001b[0m\u001b[0mapply_if_callable\u001b[0m\u001b[0;34m(\u001b[0m\u001b[0mkey\u001b[0m\u001b[0;34m,\u001b[0m \u001b[0mself\u001b[0m\u001b[0;34m.\u001b[0m\u001b[0mobj\u001b[0m\u001b[0;34m)\u001b[0m\u001b[0;34m\u001b[0m\u001b[0;34m\u001b[0m\u001b[0m\n\u001b[0;32m--> 895\u001b[0;31m             \u001b[0;32mreturn\u001b[0m \u001b[0mself\u001b[0m\u001b[0;34m.\u001b[0m\u001b[0m_getitem_axis\u001b[0m\u001b[0;34m(\u001b[0m\u001b[0mmaybe_callable\u001b[0m\u001b[0;34m,\u001b[0m \u001b[0maxis\u001b[0m\u001b[0;34m=\u001b[0m\u001b[0maxis\u001b[0m\u001b[0;34m)\u001b[0m\u001b[0;34m\u001b[0m\u001b[0;34m\u001b[0m\u001b[0m\n\u001b[0m\u001b[1;32m    896\u001b[0m \u001b[0;34m\u001b[0m\u001b[0m\n\u001b[1;32m    897\u001b[0m     \u001b[0;32mdef\u001b[0m \u001b[0m_is_scalar_access\u001b[0m\u001b[0;34m(\u001b[0m\u001b[0mself\u001b[0m\u001b[0;34m,\u001b[0m \u001b[0mkey\u001b[0m\u001b[0;34m:\u001b[0m \u001b[0mTuple\u001b[0m\u001b[0;34m)\u001b[0m\u001b[0;34m:\u001b[0m\u001b[0;34m\u001b[0m\u001b[0;34m\u001b[0m\u001b[0m\n",
      "\u001b[0;32m/opt/anaconda3/lib/python3.8/site-packages/pandas/core/indexing.py\u001b[0m in \u001b[0;36m_getitem_axis\u001b[0;34m(self, key, axis)\u001b[0m\n\u001b[1;32m   1122\u001b[0m         \u001b[0;31m# fall thru to straight lookup\u001b[0m\u001b[0;34m\u001b[0m\u001b[0;34m\u001b[0m\u001b[0;34m\u001b[0m\u001b[0m\n\u001b[1;32m   1123\u001b[0m         \u001b[0mself\u001b[0m\u001b[0;34m.\u001b[0m\u001b[0m_validate_key\u001b[0m\u001b[0;34m(\u001b[0m\u001b[0mkey\u001b[0m\u001b[0;34m,\u001b[0m \u001b[0maxis\u001b[0m\u001b[0;34m)\u001b[0m\u001b[0;34m\u001b[0m\u001b[0;34m\u001b[0m\u001b[0m\n\u001b[0;32m-> 1124\u001b[0;31m         \u001b[0;32mreturn\u001b[0m \u001b[0mself\u001b[0m\u001b[0;34m.\u001b[0m\u001b[0m_get_label\u001b[0m\u001b[0;34m(\u001b[0m\u001b[0mkey\u001b[0m\u001b[0;34m,\u001b[0m \u001b[0maxis\u001b[0m\u001b[0;34m=\u001b[0m\u001b[0maxis\u001b[0m\u001b[0;34m)\u001b[0m\u001b[0;34m\u001b[0m\u001b[0;34m\u001b[0m\u001b[0m\n\u001b[0m\u001b[1;32m   1125\u001b[0m \u001b[0;34m\u001b[0m\u001b[0m\n\u001b[1;32m   1126\u001b[0m     \u001b[0;32mdef\u001b[0m \u001b[0m_get_slice_axis\u001b[0m\u001b[0;34m(\u001b[0m\u001b[0mself\u001b[0m\u001b[0;34m,\u001b[0m \u001b[0mslice_obj\u001b[0m\u001b[0;34m:\u001b[0m \u001b[0mslice\u001b[0m\u001b[0;34m,\u001b[0m \u001b[0maxis\u001b[0m\u001b[0;34m:\u001b[0m \u001b[0mint\u001b[0m\u001b[0;34m)\u001b[0m\u001b[0;34m:\u001b[0m\u001b[0;34m\u001b[0m\u001b[0;34m\u001b[0m\u001b[0m\n",
      "\u001b[0;32m/opt/anaconda3/lib/python3.8/site-packages/pandas/core/indexing.py\u001b[0m in \u001b[0;36m_get_label\u001b[0;34m(self, label, axis)\u001b[0m\n\u001b[1;32m   1071\u001b[0m     \u001b[0;32mdef\u001b[0m \u001b[0m_get_label\u001b[0m\u001b[0;34m(\u001b[0m\u001b[0mself\u001b[0m\u001b[0;34m,\u001b[0m \u001b[0mlabel\u001b[0m\u001b[0;34m,\u001b[0m \u001b[0maxis\u001b[0m\u001b[0;34m:\u001b[0m \u001b[0mint\u001b[0m\u001b[0;34m)\u001b[0m\u001b[0;34m:\u001b[0m\u001b[0;34m\u001b[0m\u001b[0;34m\u001b[0m\u001b[0m\n\u001b[1;32m   1072\u001b[0m         \u001b[0;31m# GH#5667 this will fail if the label is not present in the axis.\u001b[0m\u001b[0;34m\u001b[0m\u001b[0;34m\u001b[0m\u001b[0;34m\u001b[0m\u001b[0m\n\u001b[0;32m-> 1073\u001b[0;31m         \u001b[0;32mreturn\u001b[0m \u001b[0mself\u001b[0m\u001b[0;34m.\u001b[0m\u001b[0mobj\u001b[0m\u001b[0;34m.\u001b[0m\u001b[0mxs\u001b[0m\u001b[0;34m(\u001b[0m\u001b[0mlabel\u001b[0m\u001b[0;34m,\u001b[0m \u001b[0maxis\u001b[0m\u001b[0;34m=\u001b[0m\u001b[0maxis\u001b[0m\u001b[0;34m)\u001b[0m\u001b[0;34m\u001b[0m\u001b[0;34m\u001b[0m\u001b[0m\n\u001b[0m\u001b[1;32m   1074\u001b[0m \u001b[0;34m\u001b[0m\u001b[0m\n\u001b[1;32m   1075\u001b[0m     \u001b[0;32mdef\u001b[0m \u001b[0m_handle_lowerdim_multi_index_axis0\u001b[0m\u001b[0;34m(\u001b[0m\u001b[0mself\u001b[0m\u001b[0;34m,\u001b[0m \u001b[0mtup\u001b[0m\u001b[0;34m:\u001b[0m \u001b[0mTuple\u001b[0m\u001b[0;34m)\u001b[0m\u001b[0;34m:\u001b[0m\u001b[0;34m\u001b[0m\u001b[0;34m\u001b[0m\u001b[0m\n",
      "\u001b[0;32m/opt/anaconda3/lib/python3.8/site-packages/pandas/core/generic.py\u001b[0m in \u001b[0;36mxs\u001b[0;34m(self, key, axis, level, drop_level)\u001b[0m\n\u001b[1;32m   3737\u001b[0m                 \u001b[0;32mraise\u001b[0m \u001b[0mTypeError\u001b[0m\u001b[0;34m(\u001b[0m\u001b[0;34mf\"Expected label or tuple of labels, got {key}\"\u001b[0m\u001b[0;34m)\u001b[0m \u001b[0;32mfrom\u001b[0m \u001b[0me\u001b[0m\u001b[0;34m\u001b[0m\u001b[0;34m\u001b[0m\u001b[0m\n\u001b[1;32m   3738\u001b[0m         \u001b[0;32melse\u001b[0m\u001b[0;34m:\u001b[0m\u001b[0;34m\u001b[0m\u001b[0;34m\u001b[0m\u001b[0m\n\u001b[0;32m-> 3739\u001b[0;31m             \u001b[0mloc\u001b[0m \u001b[0;34m=\u001b[0m \u001b[0mindex\u001b[0m\u001b[0;34m.\u001b[0m\u001b[0mget_loc\u001b[0m\u001b[0;34m(\u001b[0m\u001b[0mkey\u001b[0m\u001b[0;34m)\u001b[0m\u001b[0;34m\u001b[0m\u001b[0;34m\u001b[0m\u001b[0m\n\u001b[0m\u001b[1;32m   3740\u001b[0m \u001b[0;34m\u001b[0m\u001b[0m\n\u001b[1;32m   3741\u001b[0m             \u001b[0;32mif\u001b[0m \u001b[0misinstance\u001b[0m\u001b[0;34m(\u001b[0m\u001b[0mloc\u001b[0m\u001b[0;34m,\u001b[0m \u001b[0mnp\u001b[0m\u001b[0;34m.\u001b[0m\u001b[0mndarray\u001b[0m\u001b[0;34m)\u001b[0m\u001b[0;34m:\u001b[0m\u001b[0;34m\u001b[0m\u001b[0;34m\u001b[0m\u001b[0m\n",
      "\u001b[0;32m/opt/anaconda3/lib/python3.8/site-packages/pandas/core/indexes/base.py\u001b[0m in \u001b[0;36mget_loc\u001b[0;34m(self, key, method, tolerance)\u001b[0m\n\u001b[1;32m   3080\u001b[0m                 \u001b[0;32mreturn\u001b[0m \u001b[0mself\u001b[0m\u001b[0;34m.\u001b[0m\u001b[0m_engine\u001b[0m\u001b[0;34m.\u001b[0m\u001b[0mget_loc\u001b[0m\u001b[0;34m(\u001b[0m\u001b[0mcasted_key\u001b[0m\u001b[0;34m)\u001b[0m\u001b[0;34m\u001b[0m\u001b[0;34m\u001b[0m\u001b[0m\n\u001b[1;32m   3081\u001b[0m             \u001b[0;32mexcept\u001b[0m \u001b[0mKeyError\u001b[0m \u001b[0;32mas\u001b[0m \u001b[0merr\u001b[0m\u001b[0;34m:\u001b[0m\u001b[0;34m\u001b[0m\u001b[0;34m\u001b[0m\u001b[0m\n\u001b[0;32m-> 3082\u001b[0;31m                 \u001b[0;32mraise\u001b[0m \u001b[0mKeyError\u001b[0m\u001b[0;34m(\u001b[0m\u001b[0mkey\u001b[0m\u001b[0;34m)\u001b[0m \u001b[0;32mfrom\u001b[0m \u001b[0merr\u001b[0m\u001b[0;34m\u001b[0m\u001b[0;34m\u001b[0m\u001b[0m\n\u001b[0m\u001b[1;32m   3083\u001b[0m \u001b[0;34m\u001b[0m\u001b[0m\n\u001b[1;32m   3084\u001b[0m         \u001b[0;32mif\u001b[0m \u001b[0mtolerance\u001b[0m \u001b[0;32mis\u001b[0m \u001b[0;32mnot\u001b[0m \u001b[0;32mNone\u001b[0m\u001b[0;34m:\u001b[0m\u001b[0;34m\u001b[0m\u001b[0;34m\u001b[0m\u001b[0m\n",
      "\u001b[0;31mKeyError\u001b[0m: '9999985020'"
     ]
    }
   ],
   "source": [
    "# But it's a place to start. So let's make a full count list, a copy of products, and add a column of sales.\n",
    "product2 = product.copy()\n",
    "upclist = transactions.upc.value_counts()\n",
    "upcsales = pd.DataFrame(upclist)\n",
    "upcsales = upcsales.rename(columns = {'upc':'sales'})\n",
    "\n",
    "i = 0\n",
    "\n",
    "for group_key, group_value in product2.groupby('upc'):\n",
    "    product2['units_sold'][0] = upcsales.loc[group_key].sales\n",
    "    i += 1"
   ]
  },
  {
   "cell_type": "code",
   "execution_count": 84,
   "id": "1e3072fe",
   "metadata": {},
   "outputs": [
    {
     "ename": "TypeError",
     "evalue": "'tuple' object is not callable",
     "output_type": "error",
     "traceback": [
      "\u001b[0;31m---------------------------------------------------------------------------\u001b[0m",
      "\u001b[0;31mTypeError\u001b[0m                                 Traceback (most recent call last)",
      "\u001b[0;32m<ipython-input-84-abb1d9c68aae>\u001b[0m in \u001b[0;36m<module>\u001b[0;34m\u001b[0m\n\u001b[0;32m----> 1\u001b[0;31m \u001b[0mtransactions\u001b[0m\u001b[0;34m.\u001b[0m\u001b[0mshape\u001b[0m\u001b[0;34m(\u001b[0m\u001b[0;34m)\u001b[0m\u001b[0;34m\u001b[0m\u001b[0;34m\u001b[0m\u001b[0m\n\u001b[0m",
      "\u001b[0;31mTypeError\u001b[0m: 'tuple' object is not callable"
     ]
    }
   ],
   "source": [
    "transactions.shape()"
   ]
  },
  {
   "cell_type": "markdown",
   "id": "17331722",
   "metadata": {},
   "source": [
    "#### Q2. What are the top 5 brands in each commodity?"
   ]
  },
  {
   "cell_type": "code",
   "execution_count": 130,
   "id": "11909672",
   "metadata": {},
   "outputs": [
    {
     "data": {
      "text/plain": [
       "<bound method IndexOpsMixin.tolist of Index(['Private Label', 'Barilla', 'Ragu', 'Private Label Premium', 'Prego',\n",
       "       'Ronzoni', 'DaVinci', 'San Giorgio', 'Mueller', 'Creamette',\n",
       "       ...\n",
       "       'Maggi Spaetzle', 'Edd Og', 'Moonlite', 'Defino', 'Cucina', 'Classique',\n",
       "       'Chef Pizza', 'Orzo', 'Pastariso', 'Osem Bissli'],\n",
       "      dtype='object', name='brand', length=131)>"
      ]
     },
     "execution_count": 130,
     "metadata": {},
     "output_type": "execute_result"
    }
   ],
   "source": [
    "# This is similar to Q1, and actually we can use variables from Q1 to solve this.\n",
    "# We already have the sales column, so we use that as a base in product 2.\n",
    "# I didn't do Q1 correctly, so let's just generate random sales.\n",
    "\n",
    "i = 0\n",
    "for group_key, group_value in product2.groupby('upc'):\n",
    "    product2['units_sold'][i] = np.random.randint(20000)\n",
    "    i += 1\n",
    "    \n",
    "# We now need to add up the counts from each brand.\n",
    "\n",
    "product2.set_index('brand').loc['Private Label']\n",
    "\n",
    "brands = product2.value_counts('brand').index.tolist\n",
    "\n",
    "# Out of time, but to do this, what would happen is that the list would be iterated over in products 2, and\n",
    "# each usage of the brand name in the list would have an aggregated count, made into a new DataFrame, and the\n",
    "# top brands would be pulled from there."
   ]
  },
  {
   "cell_type": "markdown",
   "id": "c1113189",
   "metadata": {},
   "source": [
    "#### Q3. How often is each commodity purchased on average by a customer?"
   ]
  },
  {
   "cell_type": "markdown",
   "id": "630d9287",
   "metadata": {},
   "source": [
    "#### Q4. How is the performance of the Pasta category? (geography, weekly trends, etc)"
   ]
  },
  {
   "cell_type": "markdown",
   "id": "11e41090",
   "metadata": {},
   "source": [
    "#### Q5. In Pasta and Pasta Sauce, what products, if any, are commonly purchased together in the same basket?"
   ]
  },
  {
   "cell_type": "code",
   "execution_count": null,
   "id": "265cb153",
   "metadata": {},
   "outputs": [],
   "source": []
  }
 ],
 "metadata": {
  "kernelspec": {
   "display_name": "Python 3",
   "language": "python",
   "name": "python3"
  },
  "language_info": {
   "codemirror_mode": {
    "name": "ipython",
    "version": 3
   },
   "file_extension": ".py",
   "mimetype": "text/x-python",
   "name": "python",
   "nbconvert_exporter": "python",
   "pygments_lexer": "ipython3",
   "version": "3.8.8"
  }
 },
 "nbformat": 4,
 "nbformat_minor": 5
}
